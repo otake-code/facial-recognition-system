{
 "cells": [
  {
   "cell_type": "code",
   "execution_count": 9,
   "id": "c253e7fb-f8e0-4332-94aa-f7d4e80d077c",
   "metadata": {},
   "outputs": [],
   "source": [
    "import cv2\n",
    "%matplotlib inline\n",
    "import matplotlib.pyplot as plt\n",
    "import time\n",
    "from registration import registration\n",
    "from predict import predict"
   ]
  },
  {
   "cell_type": "code",
   "execution_count": 10,
   "id": "52528bcf-2145-4f95-af3f-689cf705de28",
   "metadata": {},
   "outputs": [],
   "source": [
    "DEVICE_ID = 0\n",
    "\n",
    "SAVE_INTERVAL_SECONDS = 1  #　撮影のインターバル\n",
    "NUM_IMAGES_TO_CAPTURE = 5  # 何枚撮影するか\n",
    "\n",
    "intervalSec = 1\n",
    "numImages = 3"
   ]
  },
  {
   "cell_type": "code",
   "execution_count": 11,
   "id": "b6a53897-fa7c-4a5f-a455-ef9ec39cbf27",
   "metadata": {},
   "outputs": [],
   "source": [
    "# 画像を切り出して保存する関数\n",
    "def face_cut_function(path_name, t):\n",
    "\n",
    "    # 画像のパスを取得\n",
    "    path = path_name\n",
    "\n",
    "    # 画像の読み込み\n",
    "    if (t == 0):\n",
    "        img = cv2.imread(\"UserImages/\"+ path)\n",
    "    else:\n",
    "        img = cv2.imread(\"FaceImages/\"+ path)\n",
    "\n",
    "    # 画像のグレースケール化\n",
    "    img_gray = cv2.cvtColor(img, cv2.COLOR_BGR2GRAY)\n",
    "\n",
    "    # 学習済みモデルの読み込み\n",
    "    cascade = cv2.CascadeClassifier(\"models/haarcascade_frontalface_default.xml\")\n",
    "\n",
    "    # 顔を検出する\n",
    "    lists = cascade.detectMultiScale(img_gray, minSize=(100, 100))\n",
    "    \n",
    "    if len(lists):\n",
    "        # 顔を検出した場合、forですべての顔を赤い長方形で囲む\n",
    "        for (x,y,w,h) in lists:\n",
    "            face_cut = img[y:y+h, x:x+w]\n",
    "            cv2.rectangle(img, (x,y), (x+w, y+h), (0, 0, 255), thickness=2)\n",
    "            cv2.imwrite(\"FaceCutImages/\"+path, face_cut)\n",
    "            cv2.imwrite(\"img/\"+path, face_cut)\n",
    "            print(\"Finished \"+ path)\n",
    "            cv2.waitKey(1) #　こいつ出来るヤツ　消すと危険\n",
    "    else:\n",
    "        print('Nothing')\n",
    "        "
   ]
  },
  {
   "cell_type": "code",
   "execution_count": null,
   "id": "e9df8bad-0edd-4145-abe7-c6d0e6476dbc",
   "metadata": {},
   "outputs": [],
   "source": [
    "# 登録モード\n",
    "\n",
    "#open\n",
    "cap = cv2.VideoCapture (DEVICE_ID)\n",
    "\n",
    "user = \"yuto\"  # 登録したい人の名前\n",
    "# user = \"atsuto\"\n",
    "\n",
    "# capture\n",
    "for i in range(NUM_IMAGES_TO_CAPTURE):\n",
    "    \n",
    "    _, frame = cap.read() \n",
    "    \n",
    "    if(frame is not None):\n",
    "        filename = f\"image_{i + 1}.jpg\"\n",
    "        \n",
    "        # save the image\n",
    "        cv2.imwrite(f\"UserImages/{filename}\", frame)\n",
    "        \n",
    "        print(f\"Image saved as {filename}\")\n",
    "        face_cut_function(filename, 0)\n",
    "\n",
    "        \n",
    "        time.sleep(SAVE_INTERVAL_SECONDS)\n",
    "\n",
    "    else: \n",
    "        print(\"Failed video capture!\")\n",
    "\n",
    "registration(\"FaceCutImages\", user)\n",
    "\n",
    "cap.release()"
   ]
  },
  {
   "cell_type": "code",
   "execution_count": 12,
   "id": "dbce29ba-b034-42d4-904b-20284b17ead7",
   "metadata": {},
   "outputs": [
    {
     "name": "stderr",
     "output_type": "stream",
     "text": [
      "[ WARN:0@451.052] global cap_gstreamer.cpp:1728 open OpenCV | GStreamer warning: Cannot query video position: status=0, value=-1, duration=-1\n"
     ]
    },
    {
     "name": "stdout",
     "output_type": "stream",
     "text": [
      "Image saved as image_1.jpg\n",
      "Finished image_1.jpg\n",
      "Image saved as image_2.jpg\n",
      "Finished image_2.jpg\n",
      "Image saved as image_3.jpg\n",
      "Finished image_3.jpg\n",
      "Finished image_3.jpg\n",
      "Copyright Owner: Yoshitsugu Kesamaru\n",
      "Subdirectory: atsuto\n",
      "atsuto_3.csv - FaceCutImages/image_3.png similarity: 84.35% - result: False\n",
      "atsuto_2.csv - FaceCutImages/image_3.png similarity: 85.26% - result: False\n",
      "atsuto_4.csv - FaceCutImages/image_3.png similarity: 77.38% - result: False\n",
      "atsuto_1.csv - FaceCutImages/image_3.png similarity: 81.09% - result: False\n",
      "atsuto_5.csv - FaceCutImages/image_3.png similarity: 78.91% - result: False\n",
      "atsuto_3.csv - FaceCutImages/image_1.png similarity: 70.71% - result: False\n",
      "atsuto_2.csv - FaceCutImages/image_1.png similarity: 70.49% - result: False\n",
      "atsuto_4.csv - FaceCutImages/image_1.png similarity: 74.92% - result: False\n",
      "atsuto_1.csv - FaceCutImages/image_1.png similarity: 72.61% - result: False\n",
      "atsuto_5.csv - FaceCutImages/image_1.png similarity: 72.95% - result: False\n",
      "atsuto_3.csv - FaceCutImages/image_2.png similarity: 82.14% - result: False\n",
      "atsuto_2.csv - FaceCutImages/image_2.png similarity: 84.17% - result: False\n",
      "atsuto_4.csv - FaceCutImages/image_2.png similarity: 77.57% - result: False\n",
      "atsuto_1.csv - FaceCutImages/image_2.png similarity: 80.91% - result: False\n",
      "atsuto_5.csv - FaceCutImages/image_2.png similarity: 77.53% - result: False\n",
      "Subdirectory: yuto\n",
      "yuto_3.csv - FaceCutImages/image_3.png similarity: 84.35% - result: False\n",
      "yuto_5.csv - FaceCutImages/image_3.png similarity: 78.91% - result: False\n",
      "yuto_4.csv - FaceCutImages/image_3.png similarity: 77.38% - result: False\n",
      "yuto_2.csv - FaceCutImages/image_3.png similarity: 85.26% - result: False\n",
      "yuto_1.csv - FaceCutImages/image_3.png similarity: 81.09% - result: False\n",
      "yuto_3.csv - FaceCutImages/image_1.png similarity: 70.71% - result: False\n",
      "yuto_5.csv - FaceCutImages/image_1.png similarity: 72.95% - result: False\n",
      "yuto_4.csv - FaceCutImages/image_1.png similarity: 74.92% - result: False\n",
      "yuto_2.csv - FaceCutImages/image_1.png similarity: 70.49% - result: False\n",
      "yuto_1.csv - FaceCutImages/image_1.png similarity: 72.61% - result: False\n",
      "yuto_3.csv - FaceCutImages/image_2.png similarity: 82.14% - result: False\n",
      "yuto_5.csv - FaceCutImages/image_2.png similarity: 77.53% - result: False\n",
      "yuto_4.csv - FaceCutImages/image_2.png similarity: 77.57% - result: False\n",
      "yuto_2.csv - FaceCutImages/image_2.png similarity: 84.17% - result: False\n",
      "yuto_1.csv - FaceCutImages/image_2.png similarity: 80.91% - result: False\n",
      "I don't know\n"
     ]
    }
   ],
   "source": [
    "# 予測モード\n",
    "\n",
    "#open\n",
    "cap = cv2.VideoCapture (DEVICE_ID)\n",
    "\n",
    "# capture\n",
    "for i in range(numImages):\n",
    "    \n",
    "    _, frame = cap.read() \n",
    "    \n",
    "    if(frame is not None):\n",
    "        filename = f\"image_{i + 1}.jpg\"\n",
    "        \n",
    "        # save the image\n",
    "        cv2.imwrite(f\"FaceImages/{filename}\", frame)\n",
    "        \n",
    "        print(f\"Image saved as {filename}\")\n",
    "        face_cut_function(filename, 1)\n",
    "\n",
    "        time.sleep(intervalSec)\n",
    "        \n",
    "    else: \n",
    "        print(\"Failed video capture!\")\n",
    "\n",
    "result = predict(\"FaceCutImages\")\n",
    "print(result)\n",
    "\n",
    "        \n",
    "cap.release()"
   ]
  },
  {
   "cell_type": "code",
   "execution_count": null,
   "id": "bc41b313-508a-4f4e-ac73-886d23ad6e01",
   "metadata": {},
   "outputs": [],
   "source": [
    "# 予測モード\n",
    "\n",
    "#open\n",
    "cap = cv2.VideoCapture (DEVICE_ID)\n",
    "\n",
    "# capture\n",
    "while True:\n",
    "    for i in range(numImages):\n",
    "        \n",
    "        _, frame = cap.read() \n",
    "        \n",
    "        if(frame is not None):\n",
    "            filename = f\"image_{i + 1}.jpg\"\n",
    "            \n",
    "            # save the image\n",
    "            cv2.imwrite(f\"FaceImages/{filename}\", frame)\n",
    "            \n",
    "            print(f\"Image saved as {filename}\")\n",
    "            face_cut_function(filename)\n",
    "    \n",
    "            \n",
    "            time.sleep(intervalSec)\n",
    "    \n",
    "        else: \n",
    "            print(\"Failed video capture!\")\n",
    "    \n",
    "    result = predict(\"FaceCutImages\")\n",
    "    print(result)\n",
    "    if (result == \"atsuto\") or (result == \"yuto\") or (result == \"I don't know\"):\n",
    "        break\n",
    "        \n",
    "cap.release()"
   ]
  },
  {
   "cell_type": "code",
   "execution_count": 1,
   "id": "d446357c-a9e0-4df5-86fe-875f48530f8b",
   "metadata": {},
   "outputs": [
    {
     "ename": "NameError",
     "evalue": "name 'cap' is not defined",
     "output_type": "error",
     "traceback": [
      "\u001b[0;31m---------------------------------------------------------------------------\u001b[0m",
      "\u001b[0;31mNameError\u001b[0m                                 Traceback (most recent call last)",
      "Cell \u001b[0;32mIn[1], line 1\u001b[0m\n\u001b[0;32m----> 1\u001b[0m \u001b[43mcap\u001b[49m\u001b[38;5;241m.\u001b[39mrelease()\n",
      "\u001b[0;31mNameError\u001b[0m: name 'cap' is not defined"
     ]
    }
   ],
   "source": [
    "cap.release()"
   ]
  },
  {
   "cell_type": "code",
   "execution_count": 8,
   "id": "83ecf9b0-f7d2-4f0c-90ab-cbc4f7d9c4ae",
   "metadata": {},
   "outputs": [
    {
     "name": "stdout",
     "output_type": "stream",
     "text": [
      "Finished image_1.jpg\n"
     ]
    }
   ],
   "source": [
    "face_cut_function(\"image_1.jpg\")"
   ]
  },
  {
   "cell_type": "code",
   "execution_count": null,
   "id": "d2c34a94-75f9-48eb-af16-d27ad4065251",
   "metadata": {},
   "outputs": [],
   "source": []
  }
 ],
 "metadata": {
  "kernelspec": {
   "display_name": "Python 3 (ipykernel)",
   "language": "python",
   "name": "python3"
  },
  "language_info": {
   "codemirror_mode": {
    "name": "ipython",
    "version": 3
   },
   "file_extension": ".py",
   "mimetype": "text/x-python",
   "name": "python",
   "nbconvert_exporter": "python",
   "pygments_lexer": "ipython3",
   "version": "3.8.10"
  }
 },
 "nbformat": 4,
 "nbformat_minor": 5
}
